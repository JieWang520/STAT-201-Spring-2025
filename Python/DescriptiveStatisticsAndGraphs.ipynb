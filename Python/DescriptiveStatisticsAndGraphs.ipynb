{
 "cells": [
  {
   "cell_type": "markdown",
   "id": "7324d0e0-dd3a-49c1-a3a8-c1097724784b",
   "metadata": {},
   "source": [
    "# Descriptive Statistics and Graphs\n",
    "\n",
    "Let's use a toy example to illustrate how to compute a set of descriptive statistics of a single sample of data. This is part of what we called univariate analysis. \n",
    "\n",
    "### Example 1: Minutes to Complete a 5K Race\n",
    "\n",
    "Suppose that we are intereseted in analyze the time for 20 runners to complete a 5k race. Let's simulate the data, which are the finish times of the 20 runners. "
   ]
  },
  {
   "cell_type": "code",
   "execution_count": 14,
   "id": "64ceb642-a7f4-45d6-98b1-6771295a5024",
   "metadata": {},
   "outputs": [],
   "source": [
    "# Let's load numpy and pandas\n",
    "import numpy as np \n",
    "import pandas as pd"
   ]
  },
  {
   "cell_type": "code",
   "execution_count": 15,
   "id": "8a3ab682-3d68-4a30-a7c1-f309de668fe0",
   "metadata": {},
   "outputs": [
    {
     "name": "stdout",
     "output_type": "stream",
     "text": [
      "Minutes to finish the race: [44. 37. 40. 46. 44. 30. 40. 34. 34. 37. 36. 42. 39. 36. 37. 37. 42. 34.\n",
      " 37. 31.]\n"
     ]
    }
   ],
   "source": [
    "# Set seed so the random numbers will keep the same in any execution\n",
    "np.random.seed(0)\n",
    "# numpy.random.normal() method \n",
    "x = np.random.normal(35, 5, 20) \n",
    "Time=np.round(x,0)\n",
    "# printing numbers \n",
    "print(f\"Minutes to finish the race: {Time}\") "
   ]
  },
  {
   "cell_type": "code",
   "execution_count": 16,
   "id": "776e99ed-ba3c-4d13-980a-acb7b1ee6f5a",
   "metadata": {},
   "outputs": [
    {
     "data": {
      "text/plain": [
       "numpy.ndarray"
      ]
     },
     "execution_count": 16,
     "metadata": {},
     "output_type": "execute_result"
    }
   ],
   "source": [
    "# Check out the type of Time\n",
    "type(Time)"
   ]
  },
  {
   "cell_type": "code",
   "execution_count": 17,
   "id": "bf1e6386-3677-448f-82ff-165e768bd628",
   "metadata": {},
   "outputs": [
    {
     "name": "stdout",
     "output_type": "stream",
     "text": [
      " The mean (average) number of minutes of the 20 runners is: 37.85\n",
      " The standard devitaion is: 4.295\n"
     ]
    }
   ],
   "source": [
    "# Find the sample mean value\n",
    "mean_value = np.mean(Time)\n",
    "# Find the sample standard deviation\n",
    "std_dev = round(np.std(Time,ddof=1),3)\n",
    "print(f\" The mean (average) number of minutes of the 20 runners is: {mean_value}\") \n",
    "print(f\" The standard devitaion is: {std_dev}\") "
   ]
  },
  {
   "cell_type": "markdown",
   "id": "60db6d2a-2819-4b9e-84db-ff4bc895d828",
   "metadata": {},
   "source": [
    "In the function np.std(), the argument ddof is used to set the denominator in the standard deviation formular. \n",
    "\n",
    "The ddof parameter stands for \"delta degrees of freedom.\" When set to 1, it modifies the denominator in the standard deviation formula from n to n-1, where n is the number of observations. \n",
    "\n",
    "This adjustment is used when calculating the standard deviation of a sample to provide an unbiased estimate of the population standard deviation. By default, ddof is 0, which calculates the population standard deviation."
   ]
  },
  {
   "cell_type": "markdown",
   "id": "e48cce70-c473-4f7f-9e62-0bcbc532ccfa",
   "metadata": {},
   "source": [
    "In many cases, we may see or prefer to use a DataFrame. A DataFrame is a two-dimensional tabular data structure with labeled rows and columns. It appears as a spreadsheet, where each column hold values of a variable, and each row contains data from one individual (study unit). DataFrames are fundamental for data manipulation and analysis in both Python and R."
   ]
  },
  {
   "cell_type": "code",
   "execution_count": 18,
   "id": "84f66b68-52e0-4932-a3da-c7e100c3474f",
   "metadata": {},
   "outputs": [
    {
     "name": "stdout",
     "output_type": "stream",
     "text": [
      "    Time\n",
      "1   44.0\n",
      "2   37.0\n",
      "3   40.0\n",
      "4   46.0\n",
      "5   44.0\n",
      "6   30.0\n",
      "7   40.0\n",
      "8   34.0\n",
      "9   34.0\n",
      "10  37.0\n",
      "11  36.0\n",
      "12  42.0\n",
      "13  39.0\n",
      "14  36.0\n",
      "15  37.0\n",
      "16  37.0\n",
      "17  42.0\n",
      "18  34.0\n",
      "19  37.0\n",
      "20  31.0\n"
     ]
    }
   ],
   "source": [
    "# Create ID's for runners to mark the rows\n",
    "ID = list(range(1, 21))\n",
    "# Create a data frame using the simulated time\n",
    "data=pd.DataFrame(Time, index=ID, columns=[\"Time\"])\n",
    "print(data)"
   ]
  },
  {
   "cell_type": "markdown",
   "id": "57ad7bb0-05b1-4a26-9b0f-881799d60c31",
   "metadata": {},
   "source": [
    "Instead of finding them one by one, we can use Pandas describe() function to compute several descriptive statistics."
   ]
  },
  {
   "cell_type": "code",
   "execution_count": 19,
   "id": "7b20fdde-5a85-4a7a-964d-3e7bfe90e325",
   "metadata": {
    "scrolled": true
   },
   "outputs": [
    {
     "name": "stdout",
     "output_type": "stream",
     "text": [
      "            Time\n",
      "count  20.000000\n",
      "mean   37.850000\n",
      "std     4.295346\n",
      "min    30.000000\n",
      "25%    35.500000\n",
      "50%    37.000000\n",
      "75%    40.500000\n",
      "max    46.000000\n"
     ]
    }
   ],
   "source": [
    "print(data.describe())"
   ]
  },
  {
   "cell_type": "raw",
   "id": "c723eec4-5470-451b-9f7d-3e899ea4bc15",
   "metadata": {},
   "source": [
    "Let's make graphs. We will show examples of making a box plot, a histogram, and a stem-and-leaf plot. "
   ]
  },
  {
   "cell_type": "code",
   "execution_count": 20,
   "id": "ec0fcbb1-aa18-49d3-868d-e653f4b9c137",
   "metadata": {},
   "outputs": [
    {
     "data": {
      "text/plain": [
       "Text(0, 0.5, 'Minutes')"
      ]
     },
     "execution_count": 20,
     "metadata": {},
     "output_type": "execute_result"
    },
    {
     "data": {
      "image/png": "[encoded data removed]",
      "text/plain": [
       "<Figure size 640x480 with 1 Axes>"
      ]
     },
     "metadata": {},
     "output_type": "display_data"
    }
   ],
   "source": [
    "import matplotlib.pyplot as plt\n",
    "\n",
    "plt.boxplot(Time, tick_labels=[\"Time\"])\n",
    "\n",
    "plt.title('Boxplot of Running Time')\n",
    "plt.ylabel('Minutes')\n"
   ]
  },
  {
   "cell_type": "code",
   "execution_count": 21,
   "id": "645316b0-89cb-4c95-a038-1623cc2b13a5",
   "metadata": {},
   "outputs": [
    {
     "data": {
      "image/png": "[encoded data removed]",
      "text/plain": [
       "<Figure size 640x480 with 1 Axes>"
      ]
     },
     "metadata": {},
     "output_type": "display_data"
    }
   ],
   "source": [
    "plt.hist(Time, bins=8, edgecolor='black')\n",
    "\n",
    "plt.xlabel('Minites')\n",
    "plt.ylabel('Frequency')\n",
    "plt.title('Histogram of Running Times')\n",
    "\n",
    "plt.show()"
   ]
  },
  {
   "cell_type": "code",
   "execution_count": 22,
   "id": "f1623b37-328f-4ee0-b2e6-0841e9afa99f",
   "metadata": {},
   "outputs": [
    {
     "data": {
      "image/png": "[encoded data removed]",
      "text/plain": [
       "<Figure size 600x20 with 1 Axes>"
      ]
     },
     "metadata": {},
     "output_type": "display_data"
    }
   ],
   "source": [
    "# \n",
    "def stem_leaf_plot(data):\n",
    "    # Sort the data\n",
    "    data.sort()\n",
    "    \n",
    "    # Determine stems and leaves\n",
    "    stems = [str(x)[:1] if len(str(x)) > 1 else '0' for x in data]\n",
    "    leaves = [str(x)[1] for x in data]\n",
    "    \n",
    "    # Group leaves by stem\n",
    "    stem_leaf_dict = {}\n",
    "    for i in range(len(stems)):\n",
    "        stem = stems[i]\n",
    "        leaf = leaves[i]\n",
    "        if stem in stem_leaf_dict:\n",
    "            stem_leaf_dict[stem].append(leaf)\n",
    "        else:\n",
    "            stem_leaf_dict[stem] = [leaf]\n",
    "    \n",
    "    # Create the plot\n",
    "    fig, ax = plt.subplots(figsize=(6, 0.2))\n",
    "    \n",
    "    y_position = len(stem_leaf_dict) -1\n",
    "    for stem, leaves in stem_leaf_dict.items():\n",
    "      ax.text(0, y_position, f\"{stem} | {' '.join(leaves)}\", ha='left', va='center')\n",
    "      y_position -=1\n",
    "    \n",
    "    ax.set_title('Stem and Leaf Plot')\n",
    "    ax.set_xticks([])\n",
    "    ax.set_yticks([])\n",
    "    ax.spines['top'].set_visible(False)\n",
    "    ax.spines['right'].set_visible(False)\n",
    "    ax.spines['bottom'].set_visible(False)\n",
    "    ax.spines['left'].set_visible(False)\n",
    "    \n",
    "    plt.show()\n",
    "\n",
    "stem_leaf_plot(Time)"
   ]
  },
  {
   "cell_type": "markdown",
   "id": "b995a923-324a-4fd8-826d-096cde71269f",
   "metadata": {},
   "source": [
    "In the above example, time to finish a 5K race takes mumerical values. Such a variable is called a quantitative variable. Next, we will examine a different type of variable that is called quanlitative variable, or sometimes categorical variable. We will use frequencies and relative frequencies to summarize this type of data.  "
   ]
  },
  {
   "cell_type": "markdown",
   "id": "ee064744-6654-47e9-ab4b-83f7e079968f",
   "metadata": {},
   "source": [
    "### Example 2 \n",
    "\n",
    "Let's play another toy example to illustrate summarizing a categorical variable. "
   ]
  },
  {
   "cell_type": "code",
   "execution_count": 23,
   "id": "8b706ef1-fca5-4499-b014-238e01042f2a",
   "metadata": {},
   "outputs": [
    {
     "name": "stdout",
     "output_type": "stream",
     "text": [
      "['Pinapple', 'Pinapple', 'Pasta', 'Pizza', 'Pasta', 'Pasta', 'Pinapple', 'Pizza', 'Pasta', 'Pasta', 'Pinapple', 'Pasta', 'Pizza', 'Pinapple', 'Pasta', 'Pizza', 'Pinapple', 'Pinapple', 'Pinapple', 'Pinapple']\n",
      "        Food\n",
      "1   Pinapple\n",
      "2   Pinapple\n",
      "3      Pasta\n",
      "4      Pizza\n",
      "5      Pasta\n",
      "6      Pasta\n",
      "7   Pinapple\n",
      "8      Pizza\n",
      "9      Pasta\n",
      "10     Pasta\n",
      "11  Pinapple\n",
      "12     Pasta\n",
      "13     Pizza\n",
      "14  Pinapple\n",
      "15     Pasta\n",
      "16     Pizza\n",
      "17  Pinapple\n",
      "18  Pinapple\n",
      "19  Pinapple\n",
      "20  Pinapple\n"
     ]
    }
   ],
   "source": [
    "import random\n",
    "\n",
    "cate = [\"Pizza\",\"Pasta\",\"Pinapple\"]\n",
    "\n",
    "random.seed(0) \n",
    "food = random.choices(cate, k=20)\n",
    "print(food)\n",
    "\n",
    "ID = list(range(1, 21))\n",
    "data2=pd.DataFrame(food, index=ID, columns=[\"Food\"])\n",
    "print(data2)"
   ]
  },
  {
   "cell_type": "markdown",
   "id": "99402bd3-6386-449a-a286-e72eb79d4174",
   "metadata": {},
   "source": [
    "Getting the summary table of frequencies and relative frequencies. If there are missing values, they can be taken care of by setting dropna= value. "
   ]
  },
  {
   "cell_type": "code",
   "execution_count": 24,
   "id": "81b9ce39-c007-4f46-9b3b-43e1d8a84c5d",
   "metadata": {},
   "outputs": [
    {
     "name": "stdout",
     "output_type": "stream",
     "text": [
      "Food\n",
      "Pinapple    9\n",
      "Pasta       7\n",
      "Pizza       4\n",
      "Name: count, dtype: int64\n",
      "Food\n",
      "Pinapple    0.45\n",
      "Pasta       0.35\n",
      "Pizza       0.20\n",
      "Name: proportion, dtype: float64\n",
      "Food\n",
      "Pinapple    9\n",
      "Pasta       7\n",
      "Pizza       4\n",
      "Name: count, dtype: int64\n"
     ]
    }
   ],
   "source": [
    "# Frequency counts\n",
    "print(data2['Food'].value_counts())\n",
    "\n",
    "# Proportions   \n",
    "print(data2['Food'].value_counts(normalize=True))\n",
    "\n",
    "# Including missing values   \n",
    "print(data2['Food'].value_counts(dropna=False))"
   ]
  },
  {
   "cell_type": "markdown",
   "id": "e50bc6da-cc46-481a-b638-1378f9aaf57d",
   "metadata": {},
   "source": [
    "Then let's get the graphs. "
   ]
  },
  {
   "cell_type": "code",
   "execution_count": 25,
   "id": "a1fa435a-2355-4870-bf33-174db4cab904",
   "metadata": {},
   "outputs": [
    {
     "data": {
      "image/png": "[encoded data removed]",
      "text/plain": [
       "<Figure size 640x480 with 1 Axes>"
      ]
     },
     "metadata": {},
     "output_type": "display_data"
    }
   ],
   "source": [
    "import matplotlib.pyplot as plt\n",
    "\n",
    "values = [4, 7, 9]\n",
    "\n",
    "# Creating the bar chart\n",
    "plt.bar(cate, values, color='skyblue')\n",
    "\n",
    "# Adding labels and title\n",
    "plt.ylabel('Frequency')\n",
    "plt.title('Bar Chart of Food Type')\n",
    "\n",
    "# Displaying the chart\n",
    "plt.show()\n"
   ]
  },
  {
   "cell_type": "code",
   "execution_count": 26,
   "id": "e1738d61-3cef-4f03-b80c-a5e8c2d066e2",
   "metadata": {},
   "outputs": [
    {
     "data": {
      "image/png": "[encoded data removed]",
      "text/plain": [
       "<Figure size 640x480 with 1 Axes>"
      ]
     },
     "metadata": {},
     "output_type": "display_data"
    }
   ],
   "source": [
    "plt.pie(values, labels=cate, autopct='%1.1f%%', startangle=90)\n",
    "\n",
    "plt.axis('equal')\n",
    "\n",
    "# Adding a title\n",
    "plt.title('Pie Chart of Food Type')\n",
    "\n",
    "# Displaying the chart\n",
    "plt.show()"
   ]
  },
  {
   "cell_type": "markdown",
   "id": "4513e537-2dc3-48ce-b0cc-99b79e6d625a",
   "metadata": {},
   "source": [
    "### Example 3\n",
    "\n",
    "We will borrow a dataset from R. First, we will import the .txt file. Then we will deal with a categorical variable from the set. Frequencies and relative frequencies are useful descriptive statistics in this case. A bar chart or a pie chart is a helpful graph to show the proportions of each category of such a variable. "
   ]
  },
  {
   "cell_type": "markdown",
   "id": "d27da7bb-dfb5-444e-b765-52d0be37ae8c",
   "metadata": {},
   "source": [
    "We will borrow a data set from R. You can find more information about the data set mtcars [here] (https://www.rdocumentation.org/packages/datasets/versions/3.6.2/topics/mtcars)"
   ]
  },
  {
   "cell_type": "code",
   "execution_count": 27,
   "id": "4968b148-a046-45a2-b65b-69e7bcb246e0",
   "metadata": {},
   "outputs": [
    {
     "name": "stdout",
     "output_type": "stream",
     "text": [
      "    mpg  cyl   disp   hp  drat     wt   qsec  vs  am  gear  carb\n",
      "0  21.0    6  160.0  110  3.90  2.620  16.46   0   1     4     4\n",
      "1  21.0    6  160.0  110  3.90  2.875  17.02   0   1     4     4\n",
      "2  22.8    4  108.0   93  3.85  2.320  18.61   1   1     4     1\n",
      "3  21.4    6  258.0  110  3.08  3.215  19.44   1   0     3     1\n",
      "4  18.7    8  360.0  175  3.15  3.440  17.02   0   0     3     2\n"
     ]
    }
   ],
   "source": [
    "# Import dataset \n",
    "\n",
    "cars = pd.read_csv('mtcars.txt', sep='\\t')\n",
    "print(cars.head())"
   ]
  },
  {
   "cell_type": "markdown",
   "id": "05733e88-7f2c-475e-bc87-f3070a957326",
   "metadata": {},
   "source": [
    "Now, let's play the game of finding statistics and making graphs using this set of data. \n",
    "\n",
    "Can you find the descriptive statistics of the variable mpg? \n",
    "\n",
    "Can you find the descriptive statistics of cyl, treating cyl as a categorical variable? \n",
    "\n",
    "Can you make a histogram for mpg? a bar chart for cyl?"
   ]
  },
  {
   "cell_type": "code",
   "execution_count": 28,
   "id": "14db63ba-87f5-43d3-9073-7550ea67ba14",
   "metadata": {},
   "outputs": [
    {
     "name": "stdout",
     "output_type": "stream",
     "text": [
      "count    32.000000\n",
      "mean     20.090625\n",
      "std       6.026948\n",
      "min      10.400000\n",
      "25%      15.425000\n",
      "50%      19.200000\n",
      "75%      22.800000\n",
      "max      33.900000\n",
      "Name: mpg, dtype: float64\n"
     ]
    }
   ],
   "source": [
    "descriptive_stats = cars['mpg'].describe()\n",
    "print(descriptive_stats)\n"
   ]
  },
  {
   "cell_type": "code",
   "execution_count": 29,
   "id": "3130179f-8429-4f70-9686-d3284b1e0f9b",
   "metadata": {},
   "outputs": [
    {
     "name": "stdout",
     "output_type": "stream",
     "text": [
      "cyl\n",
      "8    14\n",
      "4    11\n",
      "6     7\n",
      "Name: count, dtype: int64\n",
      "cyl\n",
      "8    0.43750\n",
      "4    0.34375\n",
      "6    0.21875\n",
      "Name: proportion, dtype: float64\n"
     ]
    }
   ],
   "source": [
    "print(cars['cyl'].value_counts())\n",
    "  \n",
    "print(cars['cyl'].value_counts(normalize=True))\n"
   ]
  },
  {
   "cell_type": "code",
   "execution_count": 30,
   "id": "ec32d973-28f3-40c3-bc30-803e4f31cbf9",
   "metadata": {},
   "outputs": [
    {
     "data": {
      "image/png": "[encoded data removed]",
      "text/plain": [
       "<Figure size 640x480 with 1 Axes>"
      ]
     },
     "metadata": {},
     "output_type": "display_data"
    }
   ],
   "source": [
    "import matplotlib.pyplot as plt\n",
    "\n",
    "plt.hist(cars['mpg'], edgecolor='black')\n",
    "\n",
    "plt.xlabel('MPG')\n",
    "plt.ylabel('Frequency')\n",
    "plt.title('Histogram of MPG')\n",
    "\n",
    "plt.show()"
   ]
  },
  {
   "cell_type": "code",
   "execution_count": 31,
   "id": "40b5ea17-3805-425b-a53a-e0ff1cafe78d",
   "metadata": {},
   "outputs": [
    {
     "data": {
      "image/png": "[encoded data removed]",
      "text/plain": [
       "<Figure size 640x480 with 1 Axes>"
      ]
     },
     "metadata": {},
     "output_type": "display_data"
    }
   ],
   "source": [
    "cyl_cate=[4,6, 8]\n",
    "values = [11, 7, 14]\n",
    "\n",
    "plt.bar(cyl_cate, values, color='skyblue')\n",
    "\n",
    "plt.ylabel('Frequency')\n",
    "plt.title('Bar Chart of CYL')\n",
    "\n",
    "plt.show()"
   ]
  }
 ],
 "metadata": {
  "kernelspec": {
   "display_name": "Python 3 (ipykernel)",
   "language": "python",
   "name": "python3"
  },
  "language_info": {
   "codemirror_mode": {
    "name": "ipython",
    "version": 3
   },
   "file_extension": ".py",
   "mimetype": "text/x-python",
   "name": "python",
   "nbconvert_exporter": "python",
   "pygments_lexer": "ipython3",
   "version": "3.13.2"
  }
 },
 "nbformat": 4,
 "nbformat_minor": 5
}
